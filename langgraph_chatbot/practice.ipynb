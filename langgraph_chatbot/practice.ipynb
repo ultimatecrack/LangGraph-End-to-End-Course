{
 "cells": [
  {
   "cell_type": "code",
   "execution_count": 2,
   "metadata": {},
   "outputs": [],
   "source": [
    "from typing import Annotated, Literal, TypedDict\n",
    "\n",
    "from langchain_core.messages import HumanMessage\n",
    "from langchain_core.tools import tool\n",
    "from langgraph.checkpoint.memory import MemorySaver\n",
    "from langgraph.graph import END, START, StateGraph, MessagesState\n",
    "from langgraph.prebuilt import ToolNode"
   ]
  },
  {
   "cell_type": "code",
   "execution_count": 3,
   "metadata": {},
   "outputs": [],
   "source": [
    "from langchain_groq import ChatGroq\n",
    "llm=ChatGroq(model_name=\"Gemma2-9b-It\")"
   ]
  },
  {
   "cell_type": "code",
   "execution_count": 31,
   "metadata": {},
   "outputs": [],
   "source": [
    "@tool\n",
    "def search(query: str):\n",
    "    \"\"\"this is my custom tool.\"\"\"\n",
    "    if \"sf\" in query.lower() or \"san francisco\" in query.lower():\n",
    "        return \"It's 60 degrees and foggy.\"\n",
    "    return \"It's 90 degrees and sunny.\""
   ]
  },
  {
   "cell_type": "code",
   "execution_count": 32,
   "metadata": {},
   "outputs": [
    {
     "data": {
      "text/plain": [
       "\"It's 60 degrees and foggy.\""
      ]
     },
     "execution_count": 32,
     "metadata": {},
     "output_type": "execute_result"
    }
   ],
   "source": [
    "search(\"what is a temprature in sf?\")"
   ]
  },
  {
   "cell_type": "code",
   "execution_count": 33,
   "metadata": {},
   "outputs": [
    {
     "data": {
      "text/plain": [
       "\"It's 90 degrees and sunny.\""
      ]
     },
     "execution_count": 33,
     "metadata": {},
     "output_type": "execute_result"
    }
   ],
   "source": [
    "search(\"what is a weather in india?\")"
   ]
  },
  {
   "cell_type": "code",
   "execution_count": 35,
   "metadata": {},
   "outputs": [],
   "source": [
    "tools=[search]"
   ]
  },
  {
   "cell_type": "code",
   "execution_count": 36,
   "metadata": {},
   "outputs": [
    {
     "data": {
      "text/plain": [
       "[StructuredTool(name='search', description='this is my custom tool.', args_schema=<class 'langchain_core.utils.pydantic.search'>, func=<function search at 0x000001A1337D5D80>)]"
      ]
     },
     "execution_count": 36,
     "metadata": {},
     "output_type": "execute_result"
    }
   ],
   "source": [
    "tools"
   ]
  },
  {
   "cell_type": "code",
   "execution_count": 37,
   "metadata": {},
   "outputs": [],
   "source": [
    "tool_node=ToolNode(tools)"
   ]
  },
  {
   "cell_type": "code",
   "execution_count": 40,
   "metadata": {},
   "outputs": [
    {
     "data": {
      "text/plain": [
       "tools(tags=None, recurse=True, func_accepts_config=True, func_accepts={'writer': False, 'store': False}, tools_by_name={'search': StructuredTool(name='search', description='this is my custom tool.', args_schema=<class 'langchain_core.utils.pydantic.search'>, func=<function search at 0x000001A1337D5D80>)}, handle_tool_errors=True)"
      ]
     },
     "execution_count": 40,
     "metadata": {},
     "output_type": "execute_result"
    }
   ],
   "source": [
    "tool_node"
   ]
  },
  {
   "cell_type": "code",
   "execution_count": 41,
   "metadata": {},
   "outputs": [
    {
     "data": {
      "text/plain": [
       "ChatGroq(client=<groq.resources.chat.completions.Completions object at 0x000001A1338596F0>, async_client=<groq.resources.chat.completions.AsyncCompletions object at 0x000001A13385A3B0>, model_name='Gemma2-9b-It', model_kwargs={}, groq_api_key=SecretStr('**********'))"
      ]
     },
     "execution_count": 41,
     "metadata": {},
     "output_type": "execute_result"
    }
   ],
   "source": [
    "llm"
   ]
  },
  {
   "cell_type": "code",
   "execution_count": 47,
   "metadata": {},
   "outputs": [],
   "source": [
    "llm_with_tool=llm.bind_tools(tools)"
   ]
  },
  {
   "cell_type": "code",
   "execution_count": 48,
   "metadata": {},
   "outputs": [
    {
     "data": {
      "text/plain": [
       "AIMessage(content='', additional_kwargs={'tool_calls': [{'id': 'call_djrk', 'function': {'arguments': '{\"query\":\"hi\"}', 'name': 'search'}, 'type': 'function'}]}, response_metadata={'token_usage': {'completion_tokens': 80, 'prompt_tokens': 937, 'total_tokens': 1017, 'completion_time': 0.145454545, 'prompt_time': 0.03038473, 'queue_time': 0.004178960000000002, 'total_time': 0.175839275}, 'model_name': 'Gemma2-9b-It', 'system_fingerprint': 'fp_10c08bf97d', 'finish_reason': 'tool_calls', 'logprobs': None}, id='run-7e10602d-48cc-4688-979f-a28dbf1a6678-0', tool_calls=[{'name': 'search', 'args': {'query': 'hi'}, 'id': 'call_djrk', 'type': 'tool_call'}], usage_metadata={'input_tokens': 937, 'output_tokens': 80, 'total_tokens': 1017})"
      ]
     },
     "execution_count": 48,
     "metadata": {},
     "output_type": "execute_result"
    }
   ],
   "source": [
    "llm_with_tool.invoke(\"hi\")"
   ]
  },
  {
   "cell_type": "code",
   "execution_count": 44,
   "metadata": {},
   "outputs": [
    {
     "data": {
      "text/plain": [
       "AIMessage(content='', additional_kwargs={'tool_calls': [{'id': 'call_cszj', 'function': {'arguments': '{\"query\":\"weather in India\"}', 'name': 'search'}, 'type': 'function'}]}, response_metadata={'token_usage': {'completion_tokens': 82, 'prompt_tokens': 943, 'total_tokens': 1025, 'completion_time': 0.149090909, 'prompt_time': 0.030106042, 'queue_time': 0.003872157000000001, 'total_time': 0.179196951}, 'model_name': 'Gemma2-9b-It', 'system_fingerprint': 'fp_10c08bf97d', 'finish_reason': 'tool_calls', 'logprobs': None}, id='run-fa683e35-799f-4498-8cb4-6b63d97d7a33-0', tool_calls=[{'name': 'search', 'args': {'query': 'weather in India'}, 'id': 'call_cszj', 'type': 'tool_call'}], usage_metadata={'input_tokens': 943, 'output_tokens': 82, 'total_tokens': 1025})"
      ]
     },
     "execution_count": 44,
     "metadata": {},
     "output_type": "execute_result"
    }
   ],
   "source": []
  },
  {
   "cell_type": "markdown",
   "metadata": {},
   "source": [
    "AIMessage(content='', additional_kwargs={'tool_calls': [{'id': 'call_sg9d', 'function': {'arguments': '{\"query\":\"hi\"}', 'name': 'search'}, 'type': 'function'}]}, response_metadata={'token_usage': {'completion_tokens': 80, 'prompt_tokens': 937, 'total_tokens': 1017, 'completion_time': 0.150551835, 'prompt_time': 0.042811728, 'queue_time': 0.004417227000000003, 'total_time': 0.193363563}, 'model_name': 'Gemma2-9b-It', 'system_fingerprint': 'fp_10c08bf97d', 'finish_reason': 'tool_calls', 'logprobs': None}, id='run-cbdac5e2-5354-496c-b5ef-5d5e4faf125b-0', tool_calls=[{'name': 'search', 'args': {'query': 'hi'}, 'id': 'call_sg9d', 'type': 'tool_call'}], usage_metadata={'input_tokens': 937, 'output_tokens': 80, 'total_tokens': 1017})"
   ]
  },
  {
   "cell_type": "code",
   "execution_count": 96,
   "metadata": {},
   "outputs": [],
   "source": [
    "def call_model(state: MessagesState):\n",
    "    messages = state['messages']\n",
    "    print(f\"ye mera message hai {messages}\")\n",
    "    response = llm_with_tool.invoke(messages)\n",
    "    return {\"messages\": [response]}"
   ]
  },
  {
   "cell_type": "code",
   "execution_count": 83,
   "metadata": {},
   "outputs": [],
   "source": [
    "def should_continue(state: MessagesState) -> Literal[\"tools\", END]:\n",
    "    print(f\"here is a state from should continue {state}\")\n",
    "    messages = state['messages']\n",
    "    last_message = messages[-1]\n",
    "    print(f\"here is a last message from should continue {last_message}\")\n",
    "    if last_message.tool_calls:\n",
    "        return \"tools\"\n",
    "    return END\n"
   ]
  },
  {
   "cell_type": "code",
   "execution_count": 68,
   "metadata": {},
   "outputs": [],
   "source": [
    "response = llm_with_tool.invoke(\"hi how are you?\")\n",
    "state={\"messages\": [response]}"
   ]
  },
  {
   "cell_type": "code",
   "execution_count": 77,
   "metadata": {},
   "outputs": [],
   "source": [
    "state={\"messages\": [response]}"
   ]
  },
  {
   "cell_type": "code",
   "execution_count": 78,
   "metadata": {},
   "outputs": [],
   "source": [
    "messages = state['messages']"
   ]
  },
  {
   "cell_type": "code",
   "execution_count": 81,
   "metadata": {},
   "outputs": [
    {
     "data": {
      "text/plain": [
       "AIMessage(content='', additional_kwargs={'tool_calls': [{'id': 'call_tb47', 'function': {'arguments': '{\"query\":\"temperature in india\"}', 'name': 'search'}, 'type': 'function'}]}, response_metadata={'token_usage': {'completion_tokens': 82, 'prompt_tokens': 945, 'total_tokens': 1027, 'completion_time': 0.149090909, 'prompt_time': 0.030172069, 'queue_time': 0.004229676999999998, 'total_time': 0.179262978}, 'model_name': 'Gemma2-9b-It', 'system_fingerprint': 'fp_10c08bf97d', 'finish_reason': 'tool_calls', 'logprobs': None}, id='run-db9a3e83-6040-4711-a1cb-3a1e735232bf-0', tool_calls=[{'name': 'search', 'args': {'query': 'temperature in india'}, 'id': 'call_tb47', 'type': 'tool_call'}], usage_metadata={'input_tokens': 945, 'output_tokens': 82, 'total_tokens': 1027})"
      ]
     },
     "execution_count": 81,
     "metadata": {},
     "output_type": "execute_result"
    }
   ],
   "source": [
    "messages[-1]"
   ]
  },
  {
   "cell_type": "code",
   "execution_count": 70,
   "metadata": {},
   "outputs": [],
   "source": [
    "response = llm_with_tool.invoke(\"what is a temprature in india?\")\n",
    "state={\"messages\": [response]}"
   ]
  },
  {
   "cell_type": "code",
   "execution_count": 71,
   "metadata": {},
   "outputs": [
    {
     "data": {
      "text/plain": [
       "[{'name': 'search',\n",
       "  'args': {'query': 'temperature in india'},\n",
       "  'id': 'call_tb47',\n",
       "  'type': 'tool_call'}]"
      ]
     },
     "execution_count": 71,
     "metadata": {},
     "output_type": "execute_result"
    }
   ],
   "source": [
    "response.tool_calls"
   ]
  },
  {
   "cell_type": "code",
   "execution_count": 72,
   "metadata": {},
   "outputs": [
    {
     "data": {
      "text/plain": [
       "{'messages': [AIMessage(content='', additional_kwargs={'tool_calls': [{'id': 'call_tb47', 'function': {'arguments': '{\"query\":\"temperature in india\"}', 'name': 'search'}, 'type': 'function'}]}, response_metadata={'token_usage': {'completion_tokens': 82, 'prompt_tokens': 945, 'total_tokens': 1027, 'completion_time': 0.149090909, 'prompt_time': 0.030172069, 'queue_time': 0.004229676999999998, 'total_time': 0.179262978}, 'model_name': 'Gemma2-9b-It', 'system_fingerprint': 'fp_10c08bf97d', 'finish_reason': 'tool_calls', 'logprobs': None}, id='run-db9a3e83-6040-4711-a1cb-3a1e735232bf-0', tool_calls=[{'name': 'search', 'args': {'query': 'temperature in india'}, 'id': 'call_tb47', 'type': 'tool_call'}], usage_metadata={'input_tokens': 945, 'output_tokens': 82, 'total_tokens': 1027})]}"
      ]
     },
     "execution_count": 72,
     "metadata": {},
     "output_type": "execute_result"
    }
   ],
   "source": [
    "state"
   ]
  },
  {
   "cell_type": "code",
   "execution_count": 73,
   "metadata": {},
   "outputs": [
    {
     "name": "stdout",
     "output_type": "stream",
     "text": [
      "here is a state from should continue {'messages': [AIMessage(content='', additional_kwargs={'tool_calls': [{'id': 'call_tb47', 'function': {'arguments': '{\"query\":\"temperature in india\"}', 'name': 'search'}, 'type': 'function'}]}, response_metadata={'token_usage': {'completion_tokens': 82, 'prompt_tokens': 945, 'total_tokens': 1027, 'completion_time': 0.149090909, 'prompt_time': 0.030172069, 'queue_time': 0.004229676999999998, 'total_time': 0.179262978}, 'model_name': 'Gemma2-9b-It', 'system_fingerprint': 'fp_10c08bf97d', 'finish_reason': 'tool_calls', 'logprobs': None}, id='run-db9a3e83-6040-4711-a1cb-3a1e735232bf-0', tool_calls=[{'name': 'search', 'args': {'query': 'temperature in india'}, 'id': 'call_tb47', 'type': 'tool_call'}], usage_metadata={'input_tokens': 945, 'output_tokens': 82, 'total_tokens': 1027})]}\n",
      "here is a last message from should continue content='' additional_kwargs={'tool_calls': [{'id': 'call_tb47', 'function': {'arguments': '{\"query\":\"temperature in india\"}', 'name': 'search'}, 'type': 'function'}]} response_metadata={'token_usage': {'completion_tokens': 82, 'prompt_tokens': 945, 'total_tokens': 1027, 'completion_time': 0.149090909, 'prompt_time': 0.030172069, 'queue_time': 0.004229676999999998, 'total_time': 0.179262978}, 'model_name': 'Gemma2-9b-It', 'system_fingerprint': 'fp_10c08bf97d', 'finish_reason': 'tool_calls', 'logprobs': None} id='run-db9a3e83-6040-4711-a1cb-3a1e735232bf-0' tool_calls=[{'name': 'search', 'args': {'query': 'temperature in india'}, 'id': 'call_tb47', 'type': 'tool_call'}] usage_metadata={'input_tokens': 945, 'output_tokens': 82, 'total_tokens': 1027}\n"
     ]
    },
    {
     "data": {
      "text/plain": [
       "'tools'"
      ]
     },
     "execution_count": 73,
     "metadata": {},
     "output_type": "execute_result"
    }
   ],
   "source": [
    "should_continue(state)"
   ]
  },
  {
   "cell_type": "code",
   "execution_count": 20,
   "metadata": {},
   "outputs": [
    {
     "name": "stdout",
     "output_type": "stream",
     "text": [
      "<class 'langgraph.graph.message.MessagesState'>\n"
     ]
    }
   ],
   "source": [
    "print(MessagesState)"
   ]
  },
  {
   "cell_type": "code",
   "execution_count": 84,
   "metadata": {},
   "outputs": [],
   "source": [
    "# Define a new graph\n",
    "workflow = StateGraph(MessagesState)\n",
    "\n",
    "workflow.add_node(\"agent\", call_model)\n",
    "workflow.add_node(\"tools\", tool_node)\n",
    "\n",
    "workflow.add_edge(START, \"agent\")\n",
    "\n",
    "workflow.add_conditional_edges(\"agent\",should_continue,{\"tools\": \"tools\", END: END})\n",
    "\n",
    "app = workflow.compile()"
   ]
  },
  {
   "cell_type": "code",
   "execution_count": 85,
   "metadata": {},
   "outputs": [
    {
     "data": {
      "text/plain": [
       "<langgraph.graph.state.StateGraph at 0x1a1356d7fa0>"
      ]
     },
     "execution_count": 85,
     "metadata": {},
     "output_type": "execute_result"
    }
   ],
   "source": [
    "workflow.add_node(\"agent\", call_model)\n",
    "workflow.add_node(\"tools\", tool_node)"
   ]
  },
  {
   "cell_type": "code",
   "execution_count": 86,
   "metadata": {},
   "outputs": [
    {
     "data": {
      "text/plain": [
       "<langgraph.graph.state.StateGraph at 0x1a1356d7fa0>"
      ]
     },
     "execution_count": 86,
     "metadata": {},
     "output_type": "execute_result"
    }
   ],
   "source": [
    "workflow.add_edge(START, \"agent\")"
   ]
  },
  {
   "cell_type": "code",
   "execution_count": 87,
   "metadata": {},
   "outputs": [
    {
     "data": {
      "text/plain": [
       "<langgraph.graph.state.StateGraph at 0x1a1356d7fa0>"
      ]
     },
     "execution_count": 87,
     "metadata": {},
     "output_type": "execute_result"
    }
   ],
   "source": [
    "workflow.add_conditional_edges(\"agent\",should_continue,{\"tools\": \"tools\", END: END})"
   ]
  },
  {
   "cell_type": "code",
   "execution_count": 99,
   "metadata": {},
   "outputs": [],
   "source": [
    "app = workflow.compile()"
   ]
  },
  {
   "cell_type": "code",
   "execution_count": 100,
   "metadata": {},
   "outputs": [
    {
     "data": {
      "image/jpeg": "[encoded data removed]",
      "text/plain": [
       "<IPython.core.display.Image object>"
      ]
     },
     "metadata": {},
     "output_type": "display_data"
    }
   ],
   "source": [
    "from IPython.display import Image, display\n",
    "display(Image(app.get_graph().draw_mermaid_png()))"
   ]
  },
  {
   "cell_type": "code",
   "execution_count": 93,
   "metadata": {},
   "outputs": [
    {
     "name": "stdout",
     "output_type": "stream",
     "text": [
      "here is a state from should continue {'messages': [HumanMessage(content='what is the weather in sf', additional_kwargs={}, response_metadata={}, id='d01a5297-c72e-4338-88cf-9504d8df59be'), AIMessage(content='', additional_kwargs={'tool_calls': [{'id': 'call_q75j', 'function': {'arguments': '{\"query\":\"weather in sf\"}', 'name': 'search'}, 'type': 'function'}]}, response_metadata={'token_usage': {'completion_tokens': 82, 'prompt_tokens': 942, 'total_tokens': 1024, 'completion_time': 0.149090909, 'prompt_time': 0.030043498, 'queue_time': 0.004041646999999999, 'total_time': 0.179134407}, 'model_name': 'Gemma2-9b-It', 'system_fingerprint': 'fp_10c08bf97d', 'finish_reason': 'tool_calls', 'logprobs': None}, id='run-1e31b3b7-1b00-4301-8713-186652ac6b16-0', tool_calls=[{'name': 'search', 'args': {'query': 'weather in sf'}, 'id': 'call_q75j', 'type': 'tool_call'}], usage_metadata={'input_tokens': 942, 'output_tokens': 82, 'total_tokens': 1024})]}\n",
      "here is a last message from should continue content='' additional_kwargs={'tool_calls': [{'id': 'call_q75j', 'function': {'arguments': '{\"query\":\"weather in sf\"}', 'name': 'search'}, 'type': 'function'}]} response_metadata={'token_usage': {'completion_tokens': 82, 'prompt_tokens': 942, 'total_tokens': 1024, 'completion_time': 0.149090909, 'prompt_time': 0.030043498, 'queue_time': 0.004041646999999999, 'total_time': 0.179134407}, 'model_name': 'Gemma2-9b-It', 'system_fingerprint': 'fp_10c08bf97d', 'finish_reason': 'tool_calls', 'logprobs': None} id='run-1e31b3b7-1b00-4301-8713-186652ac6b16-0' tool_calls=[{'name': 'search', 'args': {'query': 'weather in sf'}, 'id': 'call_q75j', 'type': 'tool_call'}] usage_metadata={'input_tokens': 942, 'output_tokens': 82, 'total_tokens': 1024}\n"
     ]
    }
   ],
   "source": [
    "state=app.invoke({\"messages\": [\"what is the weather in sf\"]})"
   ]
  },
  {
   "cell_type": "code",
   "execution_count": 94,
   "metadata": {},
   "outputs": [
    {
     "data": {
      "text/plain": [
       "{'messages': [HumanMessage(content='what is the weather in sf', additional_kwargs={}, response_metadata={}, id='d01a5297-c72e-4338-88cf-9504d8df59be'),\n",
       "  AIMessage(content='', additional_kwargs={'tool_calls': [{'id': 'call_q75j', 'function': {'arguments': '{\"query\":\"weather in sf\"}', 'name': 'search'}, 'type': 'function'}]}, response_metadata={'token_usage': {'completion_tokens': 82, 'prompt_tokens': 942, 'total_tokens': 1024, 'completion_time': 0.149090909, 'prompt_time': 0.030043498, 'queue_time': 0.004041646999999999, 'total_time': 0.179134407}, 'model_name': 'Gemma2-9b-It', 'system_fingerprint': 'fp_10c08bf97d', 'finish_reason': 'tool_calls', 'logprobs': None}, id='run-1e31b3b7-1b00-4301-8713-186652ac6b16-0', tool_calls=[{'name': 'search', 'args': {'query': 'weather in sf'}, 'id': 'call_q75j', 'type': 'tool_call'}], usage_metadata={'input_tokens': 942, 'output_tokens': 82, 'total_tokens': 1024}),\n",
       "  ToolMessage(content=\"It's 60 degrees and foggy.\", name='search', id='3d9b0d28-ece1-49d9-af5b-fffb7cb3b6f8', tool_call_id='call_q75j')]}"
      ]
     },
     "execution_count": 94,
     "metadata": {},
     "output_type": "execute_result"
    }
   ],
   "source": [
    "state"
   ]
  },
  {
   "cell_type": "code",
   "execution_count": 91,
   "metadata": {},
   "outputs": [
    {
     "name": "stdout",
     "output_type": "stream",
     "text": [
      "here is a state from should continue {'messages': [HumanMessage(content='hi how are you?', additional_kwargs={}, response_metadata={}, id='f20637a2-0bd7-47b9-b45b-29f0fcc94cac'), AIMessage(content='I am doing well, thank you. How can I help you?', additional_kwargs={}, response_metadata={'token_usage': {'completion_tokens': 16, 'prompt_tokens': 941, 'total_tokens': 957, 'completion_time': 0.029090909, 'prompt_time': 0.042254551, 'queue_time': 0.0038062779999999963, 'total_time': 0.07134546}, 'model_name': 'Gemma2-9b-It', 'system_fingerprint': 'fp_10c08bf97d', 'finish_reason': 'stop', 'logprobs': None}, id='run-a1b1af6d-c7f1-48e6-95d0-71707a146a4c-0', usage_metadata={'input_tokens': 941, 'output_tokens': 16, 'total_tokens': 957})]}\n",
      "here is a last message from should continue content='I am doing well, thank you. How can I help you?' additional_kwargs={} response_metadata={'token_usage': {'completion_tokens': 16, 'prompt_tokens': 941, 'total_tokens': 957, 'completion_time': 0.029090909, 'prompt_time': 0.042254551, 'queue_time': 0.0038062779999999963, 'total_time': 0.07134546}, 'model_name': 'Gemma2-9b-It', 'system_fingerprint': 'fp_10c08bf97d', 'finish_reason': 'stop', 'logprobs': None} id='run-a1b1af6d-c7f1-48e6-95d0-71707a146a4c-0' usage_metadata={'input_tokens': 941, 'output_tokens': 16, 'total_tokens': 957}\n"
     ]
    },
    {
     "data": {
      "text/plain": [
       "{'messages': [HumanMessage(content='hi how are you?', additional_kwargs={}, response_metadata={}, id='f20637a2-0bd7-47b9-b45b-29f0fcc94cac'),\n",
       "  AIMessage(content='I am doing well, thank you. How can I help you?', additional_kwargs={}, response_metadata={'token_usage': {'completion_tokens': 16, 'prompt_tokens': 941, 'total_tokens': 957, 'completion_time': 0.029090909, 'prompt_time': 0.042254551, 'queue_time': 0.0038062779999999963, 'total_time': 0.07134546}, 'model_name': 'Gemma2-9b-It', 'system_fingerprint': 'fp_10c08bf97d', 'finish_reason': 'stop', 'logprobs': None}, id='run-a1b1af6d-c7f1-48e6-95d0-71707a146a4c-0', usage_metadata={'input_tokens': 941, 'output_tokens': 16, 'total_tokens': 957})]}"
      ]
     },
     "execution_count": 91,
     "metadata": {},
     "output_type": "execute_result"
    }
   ],
   "source": [
    "app.invoke({\"messages\": [\"hi how are you?\"]})"
   ]
  },
  {
   "cell_type": "code",
   "execution_count": 97,
   "metadata": {},
   "outputs": [
    {
     "name": "stdout",
     "output_type": "stream",
     "text": [
      "ye mera message hai [HumanMessage(content='what is the weather in sf', additional_kwargs={}, response_metadata={}, id='d01a5297-c72e-4338-88cf-9504d8df59be'), AIMessage(content='', additional_kwargs={'tool_calls': [{'id': 'call_q75j', 'function': {'arguments': '{\"query\":\"weather in sf\"}', 'name': 'search'}, 'type': 'function'}]}, response_metadata={'token_usage': {'completion_tokens': 82, 'prompt_tokens': 942, 'total_tokens': 1024, 'completion_time': 0.149090909, 'prompt_time': 0.030043498, 'queue_time': 0.004041646999999999, 'total_time': 0.179134407}, 'model_name': 'Gemma2-9b-It', 'system_fingerprint': 'fp_10c08bf97d', 'finish_reason': 'tool_calls', 'logprobs': None}, id='run-1e31b3b7-1b00-4301-8713-186652ac6b16-0', tool_calls=[{'name': 'search', 'args': {'query': 'weather in sf'}, 'id': 'call_q75j', 'type': 'tool_call'}], usage_metadata={'input_tokens': 942, 'output_tokens': 82, 'total_tokens': 1024}), ToolMessage(content=\"It's 60 degrees and foggy.\", name='search', id='3d9b0d28-ece1-49d9-af5b-fffb7cb3b6f8', tool_call_id='call_q75j')]\n"
     ]
    },
    {
     "data": {
      "text/plain": [
       "{'messages': [AIMessage(content=\"It's 60 degrees and foggy. \\n\", additional_kwargs={}, response_metadata={'token_usage': {'completion_tokens': 14, 'prompt_tokens': 1024, 'total_tokens': 1038, 'completion_time': 0.025454545, 'prompt_time': 0.034757272, 'queue_time': 0.052104007, 'total_time': 0.060211817}, 'model_name': 'Gemma2-9b-It', 'system_fingerprint': 'fp_10c08bf97d', 'finish_reason': 'stop', 'logprobs': None}, id='run-42695c87-a017-4665-8d43-6152531d9fbf-0', usage_metadata={'input_tokens': 1024, 'output_tokens': 14, 'total_tokens': 1038})]}"
      ]
     },
     "execution_count": 97,
     "metadata": {},
     "output_type": "execute_result"
    }
   ],
   "source": [
    "call_model(state)"
   ]
  },
  {
   "cell_type": "code",
   "execution_count": 98,
   "metadata": {},
   "outputs": [
    {
     "name": "stderr",
     "output_type": "stream",
     "text": [
      "Adding an edge to a graph that has already been compiled. This will not be reflected in the compiled graph.\n"
     ]
    },
    {
     "data": {
      "text/plain": [
       "<langgraph.graph.state.StateGraph at 0x1a1356d7fa0>"
      ]
     },
     "execution_count": 98,
     "metadata": {},
     "output_type": "execute_result"
    }
   ],
   "source": [
    "workflow.add_edge(\"tools\", 'agent')"
   ]
  },
  {
   "cell_type": "code",
   "execution_count": 102,
   "metadata": {},
   "outputs": [
    {
     "name": "stdout",
     "output_type": "stream",
     "text": [
      "here is a state from should continue {'messages': [HumanMessage(content='what is the weather in sf', additional_kwargs={}, response_metadata={}, id='d01a5297-c72e-4338-88cf-9504d8df59be'), AIMessage(content='', additional_kwargs={'tool_calls': [{'id': 'call_q75j', 'function': {'arguments': '{\"query\":\"weather in sf\"}', 'name': 'search'}, 'type': 'function'}]}, response_metadata={'token_usage': {'completion_tokens': 82, 'prompt_tokens': 942, 'total_tokens': 1024, 'completion_time': 0.149090909, 'prompt_time': 0.030043498, 'queue_time': 0.004041646999999999, 'total_time': 0.179134407}, 'model_name': 'Gemma2-9b-It', 'system_fingerprint': 'fp_10c08bf97d', 'finish_reason': 'tool_calls', 'logprobs': None}, id='run-1e31b3b7-1b00-4301-8713-186652ac6b16-0', tool_calls=[{'name': 'search', 'args': {'query': 'weather in sf'}, 'id': 'call_q75j', 'type': 'tool_call'}], usage_metadata={'input_tokens': 942, 'output_tokens': 82, 'total_tokens': 1024}), ToolMessage(content=\"It's 60 degrees and foggy.\", name='search', id='3d9b0d28-ece1-49d9-af5b-fffb7cb3b6f8', tool_call_id='call_q75j'), AIMessage(content=\"It's 60 degrees and foggy. \\n\", additional_kwargs={}, response_metadata={'token_usage': {'completion_tokens': 14, 'prompt_tokens': 1024, 'total_tokens': 1038, 'completion_time': 0.025454545, 'prompt_time': 0.033245194, 'queue_time': 0.0036435949999999995, 'total_time': 0.058699739}, 'model_name': 'Gemma2-9b-It', 'system_fingerprint': 'fp_10c08bf97d', 'finish_reason': 'stop', 'logprobs': None}, id='run-02875b94-9a67-4ff0-85b2-8da7415d0c54-0', usage_metadata={'input_tokens': 1024, 'output_tokens': 14, 'total_tokens': 1038})]}\n",
      "here is a last message from should continue content=\"It's 60 degrees and foggy. \\n\" additional_kwargs={} response_metadata={'token_usage': {'completion_tokens': 14, 'prompt_tokens': 1024, 'total_tokens': 1038, 'completion_time': 0.025454545, 'prompt_time': 0.033245194, 'queue_time': 0.0036435949999999995, 'total_time': 0.058699739}, 'model_name': 'Gemma2-9b-It', 'system_fingerprint': 'fp_10c08bf97d', 'finish_reason': 'stop', 'logprobs': None} id='run-02875b94-9a67-4ff0-85b2-8da7415d0c54-0' usage_metadata={'input_tokens': 1024, 'output_tokens': 14, 'total_tokens': 1038}\n",
      "here is output from agent\n",
      "_______\n",
      "{'messages': [AIMessage(content=\"It's 60 degrees and foggy. \\n\", additional_kwargs={}, response_metadata={'token_usage': {'completion_tokens': 14, 'prompt_tokens': 1024, 'total_tokens': 1038, 'completion_time': 0.025454545, 'prompt_time': 0.033245194, 'queue_time': 0.0036435949999999995, 'total_time': 0.058699739}, 'model_name': 'Gemma2-9b-It', 'system_fingerprint': 'fp_10c08bf97d', 'finish_reason': 'stop', 'logprobs': None}, id='run-02875b94-9a67-4ff0-85b2-8da7415d0c54-0', usage_metadata={'input_tokens': 1024, 'output_tokens': 14, 'total_tokens': 1038})]}\n",
      "\n",
      "\n"
     ]
    }
   ],
   "source": [
    "for output in app.stream(state):\n",
    "    for key,value in output.items():\n",
    "        print(f\"here is output from {key}\")\n",
    "        print(\"_______\")\n",
    "        print(value)\n",
    "        print(\"\\n\")"
   ]
  },
  {
   "cell_type": "markdown",
   "metadata": {},
   "source": [
    "# now the next step"
   ]
  },
  {
   "cell_type": "code",
   "execution_count": 103,
   "metadata": {},
   "outputs": [
    {
     "data": {
      "text/plain": [
       "[{'url': 'https://medium.com/@cplog/introduction-to-langgraph-a-beginners-guide-14f9be027141',\n",
       "  'content': 'Nodes: Nodes are the building blocks of your LangGraph. Each node represents a function or a computation step. You define nodes to perform specific tasks, such as processing input, making'},\n",
       " {'url': 'https://www.datacamp.com/tutorial/langgraph-tutorial',\n",
       "  'content': \"In LangGraph, each node represents an LLM agent, and the edges are the communication channels between these agents. This structure allows for clear and manageable workflows, where each agent performs specific tasks and passes information to other agents as needed. State management. One of LangGraph's standout features is its automatic state\"}]"
      ]
     },
     "execution_count": 103,
     "metadata": {},
     "output_type": "execute_result"
    }
   ],
   "source": [
    "from langchain_community.tools.tavily_search import TavilySearchResults\n",
    "tool = TavilySearchResults(max_results=2)\n",
    "tools = [tool]\n",
    "tool.invoke(\"What's a 'node' in LangGraph?\")"
   ]
  },
  {
   "cell_type": "code",
   "execution_count": 112,
   "metadata": {},
   "outputs": [],
   "source": [
    "tool_node = ToolNode(tools=[tool])"
   ]
  },
  {
   "cell_type": "code",
   "execution_count": 104,
   "metadata": {},
   "outputs": [],
   "source": [
    "updated_llm=llm.bind_tools(tools)"
   ]
  },
  {
   "cell_type": "code",
   "execution_count": 106,
   "metadata": {},
   "outputs": [
    {
     "data": {
      "text/plain": [
       "AIMessage(content='', additional_kwargs={'tool_calls': [{'id': 'call_8ypz', 'function': {'arguments': '{\"query\":\"how are you\"}', 'name': 'tavily_search_results_json'}, 'type': 'function'}]}, response_metadata={'token_usage': {'completion_tokens': 87, 'prompt_tokens': 982, 'total_tokens': 1069, 'completion_time': 0.158181818, 'prompt_time': 0.031936806, 'queue_time': 0.004176029000000005, 'total_time': 0.190118624}, 'model_name': 'Gemma2-9b-It', 'system_fingerprint': 'fp_10c08bf97d', 'finish_reason': 'tool_calls', 'logprobs': None}, id='run-75cbac72-33f7-441f-a468-111b3543c504-0', tool_calls=[{'name': 'tavily_search_results_json', 'args': {'query': 'how are you'}, 'id': 'call_8ypz', 'type': 'tool_call'}], usage_metadata={'input_tokens': 982, 'output_tokens': 87, 'total_tokens': 1069})"
      ]
     },
     "execution_count": 106,
     "metadata": {},
     "output_type": "execute_result"
    }
   ],
   "source": [
    "updated_llm.invoke(\"hi\")"
   ]
  },
  {
   "cell_type": "code",
   "execution_count": 107,
   "metadata": {},
   "outputs": [
    {
     "data": {
      "text/plain": [
       "AIMessage(content='', additional_kwargs={'tool_calls': [{'id': 'call_xk95', 'function': {'arguments': '{\"query\":\"how are you\"}', 'name': 'tavily_search_results_json'}, 'type': 'function'}]}, response_metadata={'token_usage': {'completion_tokens': 89, 'prompt_tokens': 986, 'total_tokens': 1075, 'completion_time': 0.161818182, 'prompt_time': 0.031838497, 'queue_time': 0.0030947929999999985, 'total_time': 0.193656679}, 'model_name': 'Gemma2-9b-It', 'system_fingerprint': 'fp_10c08bf97d', 'finish_reason': 'tool_calls', 'logprobs': None}, id='run-49f558a0-733f-4723-b717-9e9d24f360cf-0', tool_calls=[{'name': 'tavily_search_results_json', 'args': {'query': 'how are you'}, 'id': 'call_xk95', 'type': 'tool_call'}], usage_metadata={'input_tokens': 986, 'output_tokens': 89, 'total_tokens': 1075})"
      ]
     },
     "execution_count": 107,
     "metadata": {},
     "output_type": "execute_result"
    }
   ],
   "source": [
    "updated_llm.invoke(\"hi how are you?\")"
   ]
  },
  {
   "cell_type": "code",
   "execution_count": 119,
   "metadata": {},
   "outputs": [],
   "source": [
    "def call_model(state: MessagesState):\n",
    "    messages = state['messages']\n",
    "    print(f\"ye mera message hai from tavilay {messages}\")\n",
    "    response = updated_llm.invoke(messages)\n",
    "    return {\"messages\": [response]}"
   ]
  },
  {
   "cell_type": "code",
   "execution_count": 120,
   "metadata": {},
   "outputs": [],
   "source": [
    "def route_tools(\n",
    "    state:MessagesState ,\n",
    "):\n",
    "    \"\"\"\n",
    "    Use in the conditional_edge to route to the ToolNode if the last message\n",
    "    has tool calls. Otherwise, route to the end.\n",
    "    \"\"\"\n",
    "    if isinstance(state, list):\n",
    "        ai_message = state[-1]\n",
    "    elif messages := state.get(\"messages\", []):\n",
    "        ai_message = messages[-1]\n",
    "    else:\n",
    "        raise ValueError(f\"No messages found in input state to tool_edge: {state}\")\n",
    "    if hasattr(ai_message, \"tool_calls\") and len(ai_message.tool_calls) > 0:\n",
    "        return \"tools\"\n",
    "    return END"
   ]
  },
  {
   "cell_type": "code",
   "execution_count": 121,
   "metadata": {},
   "outputs": [],
   "source": [
    "# Define a new graph\n",
    "workflow2 = StateGraph(MessagesState)\n",
    "\n",
    "workflow2.add_node(\"agent\", call_model)\n",
    "workflow2.add_node(\"tools\", tool_node)\n",
    "\n",
    "workflow2.add_edge(START, \"agent\")\n",
    "\n",
    "workflow2.add_conditional_edges(\"agent\",route_tools,{\"tools\": \"tools\", END: END})\n",
    "\n",
    "workflow2.add_edge(\"tools\", 'agent')\n",
    "\n",
    "app2 = workflow2.compile()\n",
    "\n"
   ]
  },
  {
   "cell_type": "code",
   "execution_count": 122,
   "metadata": {},
   "outputs": [
    {
     "data": {
      "image/jpeg": "[encoded data removed]",
      "text/plain": [
       "<IPython.core.display.Image object>"
      ]
     },
     "metadata": {},
     "output_type": "display_data"
    }
   ],
   "source": [
    "from IPython.display import Image, display\n",
    "\n",
    "try:\n",
    "    display(Image(app2.get_graph().draw_mermaid_png()))\n",
    "except Exception:\n",
    "    # This requires some extra dependencies and is optional\n",
    "    pass"
   ]
  },
  {
   "cell_type": "code",
   "execution_count": 125,
   "metadata": {},
   "outputs": [
    {
     "name": "stdout",
     "output_type": "stream",
     "text": [
      "ye mera message hai from tavilay [HumanMessage(content='hi how are you?', additional_kwargs={}, response_metadata={}, id='e8bda8b3-df60-4e50-b99a-05a64001b85b')]\n",
      "ye mera message hai from tavilay [HumanMessage(content='hi how are you?', additional_kwargs={}, response_metadata={}, id='e8bda8b3-df60-4e50-b99a-05a64001b85b'), AIMessage(content='', additional_kwargs={'tool_calls': [{'id': 'call_36de', 'function': {'arguments': '{\"query\":\"how are you\"}', 'name': 'tavily_search_results_json'}, 'type': 'function'}]}, response_metadata={'token_usage': {'completion_tokens': 89, 'prompt_tokens': 986, 'total_tokens': 1075, 'completion_time': 0.161818182, 'prompt_time': 0.031764485, 'queue_time': 0.003994604999999998, 'total_time': 0.193582667}, 'model_name': 'Gemma2-9b-It', 'system_fingerprint': 'fp_10c08bf97d', 'finish_reason': 'tool_calls', 'logprobs': None}, id='run-eb811df9-05b2-470f-b23c-708161f897ba-0', tool_calls=[{'name': 'tavily_search_results_json', 'args': {'query': 'how are you'}, 'id': 'call_36de', 'type': 'tool_call'}], usage_metadata={'input_tokens': 986, 'output_tokens': 89, 'total_tokens': 1075}), ToolMessage(content='[{\"url\": \"https://7esl.com/how-are-you/\", \"content\": \"7ESL » Expressions » Phrases » 40 Other Ways to Ask “How Are You” in English\\\\n40 Other Ways to Ask “How Are You” in English\\\\nThe way that you ask someone “how are you?” may vary depending on who is being asked and in what setting the conversation is taking place. Related links:\\\\n21 thoughts on “40 Other Ways to Ask “How Are You” in English”\\\\nComment navigation\\\\nWhat’s new\\\\nI like lessons\\\\nThank you\\\\nGood\\\\nTHANKS ALOT! How’s it rolling?\\\\nComment navigation\\\\nLeave a Comment Cancel reply\\\\nComment\\\\nΔ\\\\nFree Courses\\\\nLevel Tests\\\\nCompany\\\\nFollow Us The list below shows different ways to ask “How Are You” in English that you can use in your daily English conversations.\\\\n Idiomatic Ways to Ask “How Are You?”\\\\nThese are playful, casual ways to find out how your buddy or pal is doing.\"}, {\"url\": \"https://eslspeaking.org/ways-to-answer-how-are-you/\", \"content\": \"Different Ways to Answer How Are You\\\\nCreative Ways to Answer How Are You\\\\nThe following are more creative reply to the question “how are you?”\\\\nFAQs About How Are You Replies\\\\nHere are some of the most frequently asked questions about how to answer “how are you?” qusetion.\\\\n Following are some good ways to reply nicely to “how are you?”\\\\nDaily English Resources\\\\nIf you are looking for more English speaking resources like this one, check out the following topics.\\\\nWays to Answer How Are You: Join the Conversation\\\\nHow do you usually reply when someone says “how are you?” The Most Common 4 Letter Words from A to Z\\\\nAnimal Names: Animals that Start with the Letter E\\\\nDifferent Ways to Say Good Night in English\\\\nThe Most Common 5 Letter Words from A to Z\\\\nJackie Bolen has been talking ESL speaking since 2014 and the goal is to bring you the best recommendations for English conversation games, activities, lesson plans and more. Following are some flirty responses to “How are you?”:\\\\nIs it polite to say how are you?\\\\nYes, asking “how are you” is considered polite and a common social nicety. in ESL Speaking Resources· Learn English\\\\nDifferent Ways to Answer the Question “How Are You?”\\\\nThe most commonly asked question in English is probably “How are you?”\"}]', name='tavily_search_results_json', id='31a4897f-9956-4606-8d51-a34ec6d73660', tool_call_id='call_36de', artifact={'query': 'how are you', 'follow_up_questions': None, 'answer': None, 'images': [], 'results': [{'title': '40 Other Ways to Ask \"How Are You\" in English - 7ESL', 'url': 'https://7esl.com/how-are-you/', 'content': '7ESL » Expressions » Phrases » 40 Other Ways to Ask “How Are You” in English\\n40 Other Ways to Ask “How Are You” in English\\nThe way that you ask someone “how are you?” may vary depending on who is being asked and in what setting the conversation is taking place. Related links:\\n21 thoughts on “40 Other Ways to Ask “How Are You” in English”\\nComment navigation\\nWhat’s new\\nI like lessons\\nThank you\\nGood\\nTHANKS ALOT! How’s it rolling?\\nComment navigation\\nLeave a Comment Cancel reply\\nComment\\nΔ\\nFree Courses\\nLevel Tests\\nCompany\\nFollow Us The list below shows different ways to ask “How Are You” in English that you can use in your daily English conversations.\\n Idiomatic Ways to Ask “How Are You?”\\nThese are playful, casual ways to find out how your buddy or pal is doing.', 'score': 0.99174845, 'raw_content': None}, {'title': '50 Ways to Answer \"How Are You\" in English (Common/Creative) - ESL Speaking', 'url': 'https://eslspeaking.org/ways-to-answer-how-are-you/', 'content': 'Different Ways to Answer How Are You\\nCreative Ways to Answer How Are You\\nThe following are more creative reply to the question “how are you?”\\nFAQs About How Are You Replies\\nHere are some of the most frequently asked questions about how to answer “how are you?” qusetion.\\n Following are some good ways to reply nicely to “how are you?”\\nDaily English Resources\\nIf you are looking for more English speaking resources like this one, check out the following topics.\\nWays to Answer How Are You: Join the Conversation\\nHow do you usually reply when someone says “how are you?” The Most Common 4 Letter Words from A to Z\\nAnimal Names: Animals that Start with the Letter E\\nDifferent Ways to Say Good Night in English\\nThe Most Common 5 Letter Words from A to Z\\nJackie Bolen has been talking ESL speaking since 2014 and the goal is to bring you the best recommendations for English conversation games, activities, lesson plans and more. Following are some flirty responses to “How are you?”:\\nIs it polite to say how are you?\\nYes, asking “how are you” is considered polite and a common social nicety. in ESL Speaking Resources· Learn English\\nDifferent Ways to Answer the Question “How Are You?”\\nThe most commonly asked question in English is probably “How are you?”', 'score': 0.9853843, 'raw_content': None}], 'response_time': 3.5})]\n"
     ]
    },
    {
     "data": {
      "text/plain": [
       "\"I am an AI assistant, so I don't have feelings. But thanks for asking! How are you doing?\""
      ]
     },
     "execution_count": 125,
     "metadata": {},
     "output_type": "execute_result"
    }
   ],
   "source": [
    "app2.invoke({\"messages\":[\"hi how are you?\"]})"
   ]
  },
  {
   "cell_type": "code",
   "execution_count": 126,
   "metadata": {},
   "outputs": [],
   "source": [
    "from langgraph.checkpoint.memory import MemorySaver\n",
    "\n",
    "memory = MemorySaver()"
   ]
  },
  {
   "cell_type": "code",
   "execution_count": 127,
   "metadata": {},
   "outputs": [],
   "source": [
    "# Define a new graph\n",
    "workflow3 = StateGraph(MessagesState)\n",
    "\n",
    "workflow3.add_node(\"agent\", call_model)\n",
    "workflow3.add_node(\"tools\", tool_node)\n",
    "\n",
    "workflow3.add_edge(START, \"agent\")\n",
    "\n",
    "workflow3.add_conditional_edges(\"agent\",route_tools,{\"tools\": \"tools\", END: END})\n",
    "\n",
    "workflow3.add_edge(\"tools\", 'agent')\n",
    "\n",
    "app3 = workflow3.compile(checkpointer = memory)"
   ]
  },
  {
   "cell_type": "code",
   "execution_count": 128,
   "metadata": {},
   "outputs": [
    {
     "data": {
      "image/jpeg": "[encoded data removed]",
      "text/plain": [
       "<IPython.core.display.Image object>"
      ]
     },
     "metadata": {},
     "output_type": "display_data"
    }
   ],
   "source": [
    "from IPython.display import Image, display\n",
    "\n",
    "try:\n",
    "    display(Image(app3.get_graph().draw_mermaid_png()))\n",
    "except Exception:\n",
    "    # This requires some extra dependencies and is optional\n",
    "    pass"
   ]
  },
  {
   "cell_type": "code",
   "execution_count": 129,
   "metadata": {},
   "outputs": [],
   "source": [
    "config = {\"configurable\": {\"thread_id\": \"1\"}}"
   ]
  },
  {
   "cell_type": "code",
   "execution_count": 130,
   "metadata": {},
   "outputs": [],
   "source": [
    "user_input = \"Hi there! My name is Sunny.\""
   ]
  },
  {
   "cell_type": "code",
   "execution_count": 131,
   "metadata": {},
   "outputs": [
    {
     "name": "stdout",
     "output_type": "stream",
     "text": [
      "================================\u001b[1m Human Message \u001b[0m=================================\n",
      "\n",
      "Hi there! My name is Will.\n",
      "ye mera message hai from tavilay [HumanMessage(content='Hi there! My name is Will.', additional_kwargs={}, response_metadata={}, id='b88cf747-b365-4d01-8eb9-a54d706e69af')]\n",
      "==================================\u001b[1m Ai Message \u001b[0m==================================\n",
      "Tool Calls:\n",
      "  tavily_search_results_json (call_fgt2)\n",
      " Call ID: call_fgt2\n",
      "  Args:\n",
      "    query: What is Will's name?\n",
      "=================================\u001b[1m Tool Message \u001b[0m=================================\n",
      "Name: tavily_search_results_json\n",
      "\n",
      "[{\"url\": \"https://nameberry.com/b/boy-baby-name-will\", \"content\": \"The name Will is a boy's name of English origin meaning \\\"resolute protector\\\". Will has definitely replaced Bill, not only as a nickname for William but as a stand-alone name as well, partly thanks to England's Prince William, also known as Wills. Will has a nice old-fashioned, down-home charm, and with recent references such as Will Smith, Good\"}, {\"url\": \"https://www.thinkbabynames.com/meaning/1/Will\", \"content\": \"Will as a boys' name is of Old English, Old German and English origin, and the name Will means \\\"desiring peace; determined protector\\\". Will is a variant form of Wilfred (Old English). Will is also a form of William (Old German): from wil meaning \\\"will\\\". Will is also used as a form of Willie (English), and a form of Willis (Old English).\"}]\n",
      "ye mera message hai from tavilay [HumanMessage(content='Hi there! My name is Will.', additional_kwargs={}, response_metadata={}, id='b88cf747-b365-4d01-8eb9-a54d706e69af'), AIMessage(content='', additional_kwargs={'tool_calls': [{'id': 'call_fgt2', 'function': {'arguments': '{\"query\":\"What is Will\\'s name?\"}', 'name': 'tavily_search_results_json'}, 'type': 'function'}]}, response_metadata={'token_usage': {'completion_tokens': 91, 'prompt_tokens': 989, 'total_tokens': 1080, 'completion_time': 0.165454545, 'prompt_time': 0.031609625, 'queue_time': 0.003999082000000001, 'total_time': 0.19706417}, 'model_name': 'Gemma2-9b-It', 'system_fingerprint': 'fp_10c08bf97d', 'finish_reason': 'tool_calls', 'logprobs': None}, id='run-357a4eec-c2b4-4cb7-8313-2bafc9deef14-0', tool_calls=[{'name': 'tavily_search_results_json', 'args': {'query': \"What is Will's name?\"}, 'id': 'call_fgt2', 'type': 'tool_call'}], usage_metadata={'input_tokens': 989, 'output_tokens': 91, 'total_tokens': 1080}), ToolMessage(content='[{\"url\": \"https://nameberry.com/b/boy-baby-name-will\", \"content\": \"The name Will is a boy\\'s name of English origin meaning \\\\\"resolute protector\\\\\". Will has definitely replaced Bill, not only as a nickname for William but as a stand-alone name as well, partly thanks to England\\'s Prince William, also known as Wills. Will has a nice old-fashioned, down-home charm, and with recent references such as Will Smith, Good\"}, {\"url\": \"https://www.thinkbabynames.com/meaning/1/Will\", \"content\": \"Will as a boys\\' name is of Old English, Old German and English origin, and the name Will means \\\\\"desiring peace; determined protector\\\\\". Will is a variant form of Wilfred (Old English). Will is also a form of William (Old German): from wil meaning \\\\\"will\\\\\". Will is also used as a form of Willie (English), and a form of Willis (Old English).\"}]', name='tavily_search_results_json', id='094d729a-f884-4366-81b3-411799c388df', tool_call_id='call_fgt2', artifact={'query': \"What is Will's name?\", 'follow_up_questions': None, 'answer': None, 'images': [], 'results': [{'title': 'Will - Baby Name Meaning, Origin, and Popularity', 'url': 'https://nameberry.com/b/boy-baby-name-will', 'content': 'The name Will is a boy\\'s name of English origin meaning \"resolute protector\". Will has definitely replaced Bill, not only as a nickname for William but as a stand-alone name as well, partly thanks to England\\'s Prince William, also known as Wills. Will has a nice old-fashioned, down-home charm, and with recent references such as Will Smith, Good', 'score': 0.9912548, 'raw_content': None}, {'title': 'Will - Name Meaning, What does Will mean? - Think Baby Names', 'url': 'https://www.thinkbabynames.com/meaning/1/Will', 'content': 'Will as a boys\\' name is of Old English, Old German and English origin, and the name Will means \"desiring peace; determined protector\". Will is a variant form of Wilfred (Old English). Will is also a form of William (Old German): from wil meaning \"will\". Will is also used as a form of Willie (English), and a form of Willis (Old English).', 'score': 0.9846347, 'raw_content': None}], 'response_time': 4.37})]\n",
      "==================================\u001b[1m Ai Message \u001b[0m==================================\n",
      "Tool Calls:\n",
      "  tavily_search_results_json (call_8nz9)\n",
      " Call ID: call_8nz9\n",
      "  Args:\n",
      "    query:  What is the meaning of the name Will?\n",
      "=================================\u001b[1m Tool Message \u001b[0m=================================\n",
      "Name: tavily_search_results_json\n",
      "\n",
      "[{\"url\": \"https://www.behindthename.com/name/will\", \"content\": \"Will is a short form of William and other names beginning with Will. It is a masculine name with various meanings, such as will, desire, determination, and resolution.\"}, {\"url\": \"https://www.thinkbabynames.com/meaning/1/Will\", \"content\": \"Will is a name of Old English, Old German and English origin, meaning \\\"desiring peace; determined protector\\\". It is a variant of Wilfred, William, Willie and Willis, and has many alternative forms and variations.\"}]\n",
      "ye mera message hai from tavilay [HumanMessage(content='Hi there! My name is Will.', additional_kwargs={}, response_metadata={}, id='b88cf747-b365-4d01-8eb9-a54d706e69af'), AIMessage(content='', additional_kwargs={'tool_calls': [{'id': 'call_fgt2', 'function': {'arguments': '{\"query\":\"What is Will\\'s name?\"}', 'name': 'tavily_search_results_json'}, 'type': 'function'}]}, response_metadata={'token_usage': {'completion_tokens': 91, 'prompt_tokens': 989, 'total_tokens': 1080, 'completion_time': 0.165454545, 'prompt_time': 0.031609625, 'queue_time': 0.003999082000000001, 'total_time': 0.19706417}, 'model_name': 'Gemma2-9b-It', 'system_fingerprint': 'fp_10c08bf97d', 'finish_reason': 'tool_calls', 'logprobs': None}, id='run-357a4eec-c2b4-4cb7-8313-2bafc9deef14-0', tool_calls=[{'name': 'tavily_search_results_json', 'args': {'query': \"What is Will's name?\"}, 'id': 'call_fgt2', 'type': 'tool_call'}], usage_metadata={'input_tokens': 989, 'output_tokens': 91, 'total_tokens': 1080}), ToolMessage(content='[{\"url\": \"https://nameberry.com/b/boy-baby-name-will\", \"content\": \"The name Will is a boy\\'s name of English origin meaning \\\\\"resolute protector\\\\\". Will has definitely replaced Bill, not only as a nickname for William but as a stand-alone name as well, partly thanks to England\\'s Prince William, also known as Wills. Will has a nice old-fashioned, down-home charm, and with recent references such as Will Smith, Good\"}, {\"url\": \"https://www.thinkbabynames.com/meaning/1/Will\", \"content\": \"Will as a boys\\' name is of Old English, Old German and English origin, and the name Will means \\\\\"desiring peace; determined protector\\\\\". Will is a variant form of Wilfred (Old English). Will is also a form of William (Old German): from wil meaning \\\\\"will\\\\\". Will is also used as a form of Willie (English), and a form of Willis (Old English).\"}]', name='tavily_search_results_json', id='094d729a-f884-4366-81b3-411799c388df', tool_call_id='call_fgt2', artifact={'query': \"What is Will's name?\", 'follow_up_questions': None, 'answer': None, 'images': [], 'results': [{'title': 'Will - Baby Name Meaning, Origin, and Popularity', 'url': 'https://nameberry.com/b/boy-baby-name-will', 'content': 'The name Will is a boy\\'s name of English origin meaning \"resolute protector\". Will has definitely replaced Bill, not only as a nickname for William but as a stand-alone name as well, partly thanks to England\\'s Prince William, also known as Wills. Will has a nice old-fashioned, down-home charm, and with recent references such as Will Smith, Good', 'score': 0.9912548, 'raw_content': None}, {'title': 'Will - Name Meaning, What does Will mean? - Think Baby Names', 'url': 'https://www.thinkbabynames.com/meaning/1/Will', 'content': 'Will as a boys\\' name is of Old English, Old German and English origin, and the name Will means \"desiring peace; determined protector\". Will is a variant form of Wilfred (Old English). Will is also a form of William (Old German): from wil meaning \"will\". Will is also used as a form of Willie (English), and a form of Willis (Old English).', 'score': 0.9846347, 'raw_content': None}], 'response_time': 4.37}), AIMessage(content='', additional_kwargs={'tool_calls': [{'id': 'call_8nz9', 'function': {'arguments': '{\"query\":\" What is the meaning of the name Will?\"}', 'name': 'tavily_search_results_json'}, 'type': 'function'}]}, response_metadata={'token_usage': {'completion_tokens': 58, 'prompt_tokens': 1282, 'total_tokens': 1340, 'completion_time': 0.105454545, 'prompt_time': 0.041559219, 'queue_time': 0.004133504999999996, 'total_time': 0.147013764}, 'model_name': 'Gemma2-9b-It', 'system_fingerprint': 'fp_10c08bf97d', 'finish_reason': 'tool_calls', 'logprobs': None}, id='run-21de821c-ee3c-4b6b-a634-633c7be73503-0', tool_calls=[{'name': 'tavily_search_results_json', 'args': {'query': ' What is the meaning of the name Will?'}, 'id': 'call_8nz9', 'type': 'tool_call'}], usage_metadata={'input_tokens': 1282, 'output_tokens': 58, 'total_tokens': 1340}), ToolMessage(content='[{\"url\": \"https://www.behindthename.com/name/will\", \"content\": \"Will is a short form of William and other names beginning with Will. It is a masculine name with various meanings, such as will, desire, determination, and resolution.\"}, {\"url\": \"https://www.thinkbabynames.com/meaning/1/Will\", \"content\": \"Will is a name of Old English, Old German and English origin, meaning \\\\\"desiring peace; determined protector\\\\\". It is a variant of Wilfred, William, Willie and Willis, and has many alternative forms and variations.\"}]', name='tavily_search_results_json', id='10df1133-1d41-4fb0-b960-9abdbfadc646', tool_call_id='call_8nz9', artifact={'query': ' What is the meaning of the name Will?', 'follow_up_questions': None, 'answer': None, 'images': [], 'results': [{'title': 'Meaning, origin and history of the name Will - Behind the Name', 'url': 'https://www.behindthename.com/name/will', 'content': 'Will is a short form of William and other names beginning with Will. It is a masculine name with various meanings, such as will, desire, determination, and resolution.', 'score': 0.99812514, 'raw_content': None}, {'title': 'Will - Name Meaning, What does Will mean? - Think Baby Names', 'url': 'https://www.thinkbabynames.com/meaning/1/Will', 'content': 'Will is a name of Old English, Old German and English origin, meaning \"desiring peace; determined protector\". It is a variant of Wilfred, William, Willie and Willis, and has many alternative forms and variations.', 'score': 0.9980122, 'raw_content': None}], 'response_time': 3.5})]\n",
      "==================================\u001b[1m Ai Message \u001b[0m==================================\n",
      "\n",
      "Will means \"desiring peace; determined protector\".\n"
     ]
    }
   ],
   "source": [
    "events = app3.stream(\n",
    "    {\"messages\": [(\"user\", user_input)]}, config, stream_mode=\"values\"\n",
    ")\n",
    "for event in events:\n",
    "    event[\"messages\"][-1].pretty_print()"
   ]
  },
  {
   "cell_type": "code",
   "execution_count": 132,
   "metadata": {},
   "outputs": [
    {
     "name": "stdout",
     "output_type": "stream",
     "text": [
      "================================\u001b[1m Human Message \u001b[0m=================================\n",
      "\n",
      "can you tell me what was my name?\n",
      "ye mera message hai from tavilay [HumanMessage(content='Hi there! My name is Will.', additional_kwargs={}, response_metadata={}, id='b88cf747-b365-4d01-8eb9-a54d706e69af'), AIMessage(content='', additional_kwargs={'tool_calls': [{'id': 'call_fgt2', 'function': {'arguments': '{\"query\":\"What is Will\\'s name?\"}', 'name': 'tavily_search_results_json'}, 'type': 'function'}]}, response_metadata={'token_usage': {'completion_tokens': 91, 'prompt_tokens': 989, 'total_tokens': 1080, 'completion_time': 0.165454545, 'prompt_time': 0.031609625, 'queue_time': 0.003999082000000001, 'total_time': 0.19706417}, 'model_name': 'Gemma2-9b-It', 'system_fingerprint': 'fp_10c08bf97d', 'finish_reason': 'tool_calls', 'logprobs': None}, id='run-357a4eec-c2b4-4cb7-8313-2bafc9deef14-0', tool_calls=[{'name': 'tavily_search_results_json', 'args': {'query': \"What is Will's name?\"}, 'id': 'call_fgt2', 'type': 'tool_call'}], usage_metadata={'input_tokens': 989, 'output_tokens': 91, 'total_tokens': 1080}), ToolMessage(content='[{\"url\": \"https://nameberry.com/b/boy-baby-name-will\", \"content\": \"The name Will is a boy\\'s name of English origin meaning \\\\\"resolute protector\\\\\". Will has definitely replaced Bill, not only as a nickname for William but as a stand-alone name as well, partly thanks to England\\'s Prince William, also known as Wills. Will has a nice old-fashioned, down-home charm, and with recent references such as Will Smith, Good\"}, {\"url\": \"https://www.thinkbabynames.com/meaning/1/Will\", \"content\": \"Will as a boys\\' name is of Old English, Old German and English origin, and the name Will means \\\\\"desiring peace; determined protector\\\\\". Will is a variant form of Wilfred (Old English). Will is also a form of William (Old German): from wil meaning \\\\\"will\\\\\". Will is also used as a form of Willie (English), and a form of Willis (Old English).\"}]', name='tavily_search_results_json', id='094d729a-f884-4366-81b3-411799c388df', tool_call_id='call_fgt2', artifact={'query': \"What is Will's name?\", 'follow_up_questions': None, 'answer': None, 'images': [], 'results': [{'title': 'Will - Baby Name Meaning, Origin, and Popularity', 'url': 'https://nameberry.com/b/boy-baby-name-will', 'content': 'The name Will is a boy\\'s name of English origin meaning \"resolute protector\". Will has definitely replaced Bill, not only as a nickname for William but as a stand-alone name as well, partly thanks to England\\'s Prince William, also known as Wills. Will has a nice old-fashioned, down-home charm, and with recent references such as Will Smith, Good', 'score': 0.9912548, 'raw_content': None}, {'title': 'Will - Name Meaning, What does Will mean? - Think Baby Names', 'url': 'https://www.thinkbabynames.com/meaning/1/Will', 'content': 'Will as a boys\\' name is of Old English, Old German and English origin, and the name Will means \"desiring peace; determined protector\". Will is a variant form of Wilfred (Old English). Will is also a form of William (Old German): from wil meaning \"will\". Will is also used as a form of Willie (English), and a form of Willis (Old English).', 'score': 0.9846347, 'raw_content': None}], 'response_time': 4.37}), AIMessage(content='', additional_kwargs={'tool_calls': [{'id': 'call_8nz9', 'function': {'arguments': '{\"query\":\" What is the meaning of the name Will?\"}', 'name': 'tavily_search_results_json'}, 'type': 'function'}]}, response_metadata={'token_usage': {'completion_tokens': 58, 'prompt_tokens': 1282, 'total_tokens': 1340, 'completion_time': 0.105454545, 'prompt_time': 0.041559219, 'queue_time': 0.004133504999999996, 'total_time': 0.147013764}, 'model_name': 'Gemma2-9b-It', 'system_fingerprint': 'fp_10c08bf97d', 'finish_reason': 'tool_calls', 'logprobs': None}, id='run-21de821c-ee3c-4b6b-a634-633c7be73503-0', tool_calls=[{'name': 'tavily_search_results_json', 'args': {'query': ' What is the meaning of the name Will?'}, 'id': 'call_8nz9', 'type': 'tool_call'}], usage_metadata={'input_tokens': 1282, 'output_tokens': 58, 'total_tokens': 1340}), ToolMessage(content='[{\"url\": \"https://www.behindthename.com/name/will\", \"content\": \"Will is a short form of William and other names beginning with Will. It is a masculine name with various meanings, such as will, desire, determination, and resolution.\"}, {\"url\": \"https://www.thinkbabynames.com/meaning/1/Will\", \"content\": \"Will is a name of Old English, Old German and English origin, meaning \\\\\"desiring peace; determined protector\\\\\". It is a variant of Wilfred, William, Willie and Willis, and has many alternative forms and variations.\"}]', name='tavily_search_results_json', id='10df1133-1d41-4fb0-b960-9abdbfadc646', tool_call_id='call_8nz9', artifact={'query': ' What is the meaning of the name Will?', 'follow_up_questions': None, 'answer': None, 'images': [], 'results': [{'title': 'Meaning, origin and history of the name Will - Behind the Name', 'url': 'https://www.behindthename.com/name/will', 'content': 'Will is a short form of William and other names beginning with Will. It is a masculine name with various meanings, such as will, desire, determination, and resolution.', 'score': 0.99812514, 'raw_content': None}, {'title': 'Will - Name Meaning, What does Will mean? - Think Baby Names', 'url': 'https://www.thinkbabynames.com/meaning/1/Will', 'content': 'Will is a name of Old English, Old German and English origin, meaning \"desiring peace; determined protector\". It is a variant of Wilfred, William, Willie and Willis, and has many alternative forms and variations.', 'score': 0.9980122, 'raw_content': None}], 'response_time': 3.5}), AIMessage(content='Will means \"desiring peace; determined protector\". \\n', additional_kwargs={}, response_metadata={'token_usage': {'completion_tokens': 14, 'prompt_tokens': 1493, 'total_tokens': 1507, 'completion_time': 0.025454545, 'prompt_time': 0.047844887, 'queue_time': 0.0038035529999999942, 'total_time': 0.073299432}, 'model_name': 'Gemma2-9b-It', 'system_fingerprint': 'fp_10c08bf97d', 'finish_reason': 'stop', 'logprobs': None}, id='run-d4122343-ad1a-44d2-8d23-8af8ae99c199-0', usage_metadata={'input_tokens': 1493, 'output_tokens': 14, 'total_tokens': 1507}), HumanMessage(content='can you tell me what was my name?', additional_kwargs={}, response_metadata={}, id='57dba19d-1910-45dd-91be-098c77425adc')]\n",
      "==================================\u001b[1m Ai Message \u001b[0m==================================\n",
      "\n",
      "Your name is Will.\n"
     ]
    }
   ],
   "source": [
    "user_input = \"can you tell me what was my name?\"\n",
    "\n",
    "# The config is the **second positional argument** to stream() or invoke()!\n",
    "events = app3.stream(\n",
    "    {\"messages\": [(\"user\", user_input)]}, config, stream_mode=\"values\"\n",
    ")\n",
    "for event in events:\n",
    "    event[\"messages\"][-1].pretty_print()"
   ]
  },
  {
   "cell_type": "code",
   "execution_count": 133,
   "metadata": {},
   "outputs": [
    {
     "data": {
      "text/plain": [
       "{'configurable': {'thread_id': '1'}}"
      ]
     },
     "execution_count": 133,
     "metadata": {},
     "output_type": "execute_result"
    }
   ],
   "source": [
    "config"
   ]
  },
  {
   "cell_type": "code",
   "execution_count": 137,
   "metadata": {},
   "outputs": [
    {
     "data": {
      "text/plain": [
       "<langgraph.checkpoint.memory.MemorySaver at 0x1a1360cbeb0>"
      ]
     },
     "execution_count": 137,
     "metadata": {},
     "output_type": "execute_result"
    }
   ],
   "source": [
    "app3.checkpointer"
   ]
  },
  {
   "cell_type": "code",
   "execution_count": 141,
   "metadata": {},
   "outputs": [
    {
     "data": {
      "text/plain": [
       "{'v': 1,\n",
       " 'ts': '2024-10-27T18:49:31.172606+00:00',\n",
       " 'id': '1ef94943-37dc-65f3-8008-b29bf6a7734d',\n",
       " 'channel_values': {'messages': [HumanMessage(content='Hi there! My name is Will.', additional_kwargs={}, response_metadata={}, id='b88cf747-b365-4d01-8eb9-a54d706e69af'),\n",
       "   AIMessage(content='', additional_kwargs={'tool_calls': [{'id': 'call_fgt2', 'function': {'arguments': '{\"query\":\"What is Will\\'s name?\"}', 'name': 'tavily_search_results_json'}, 'type': 'function'}]}, response_metadata={'token_usage': {'completion_tokens': 91, 'prompt_tokens': 989, 'total_tokens': 1080, 'completion_time': 0.165454545, 'prompt_time': 0.031609625, 'queue_time': 0.003999082000000001, 'total_time': 0.19706417}, 'model_name': 'Gemma2-9b-It', 'system_fingerprint': 'fp_10c08bf97d', 'finish_reason': 'tool_calls', 'logprobs': None}, id='run-357a4eec-c2b4-4cb7-8313-2bafc9deef14-0', tool_calls=[{'name': 'tavily_search_results_json', 'args': {'query': \"What is Will's name?\"}, 'id': 'call_fgt2', 'type': 'tool_call'}], usage_metadata={'input_tokens': 989, 'output_tokens': 91, 'total_tokens': 1080}),\n",
       "   ToolMessage(content='[{\"url\": \"https://nameberry.com/b/boy-baby-name-will\", \"content\": \"The name Will is a boy\\'s name of English origin meaning \\\\\"resolute protector\\\\\". Will has definitely replaced Bill, not only as a nickname for William but as a stand-alone name as well, partly thanks to England\\'s Prince William, also known as Wills. Will has a nice old-fashioned, down-home charm, and with recent references such as Will Smith, Good\"}, {\"url\": \"https://www.thinkbabynames.com/meaning/1/Will\", \"content\": \"Will as a boys\\' name is of Old English, Old German and English origin, and the name Will means \\\\\"desiring peace; determined protector\\\\\". Will is a variant form of Wilfred (Old English). Will is also a form of William (Old German): from wil meaning \\\\\"will\\\\\". Will is also used as a form of Willie (English), and a form of Willis (Old English).\"}]', name='tavily_search_results_json', id='094d729a-f884-4366-81b3-411799c388df', tool_call_id='call_fgt2', artifact={'query': \"What is Will's name?\", 'follow_up_questions': None, 'answer': None, 'images': [], 'results': [{'title': 'Will - Baby Name Meaning, Origin, and Popularity', 'url': 'https://nameberry.com/b/boy-baby-name-will', 'content': 'The name Will is a boy\\'s name of English origin meaning \"resolute protector\". Will has definitely replaced Bill, not only as a nickname for William but as a stand-alone name as well, partly thanks to England\\'s Prince William, also known as Wills. Will has a nice old-fashioned, down-home charm, and with recent references such as Will Smith, Good', 'score': 0.9912548, 'raw_content': None}, {'title': 'Will - Name Meaning, What does Will mean? - Think Baby Names', 'url': 'https://www.thinkbabynames.com/meaning/1/Will', 'content': 'Will as a boys\\' name is of Old English, Old German and English origin, and the name Will means \"desiring peace; determined protector\". Will is a variant form of Wilfred (Old English). Will is also a form of William (Old German): from wil meaning \"will\". Will is also used as a form of Willie (English), and a form of Willis (Old English).', 'score': 0.9846347, 'raw_content': None}], 'response_time': 4.37}),\n",
       "   AIMessage(content='', additional_kwargs={'tool_calls': [{'id': 'call_8nz9', 'function': {'arguments': '{\"query\":\" What is the meaning of the name Will?\"}', 'name': 'tavily_search_results_json'}, 'type': 'function'}]}, response_metadata={'token_usage': {'completion_tokens': 58, 'prompt_tokens': 1282, 'total_tokens': 1340, 'completion_time': 0.105454545, 'prompt_time': 0.041559219, 'queue_time': 0.004133504999999996, 'total_time': 0.147013764}, 'model_name': 'Gemma2-9b-It', 'system_fingerprint': 'fp_10c08bf97d', 'finish_reason': 'tool_calls', 'logprobs': None}, id='run-21de821c-ee3c-4b6b-a634-633c7be73503-0', tool_calls=[{'name': 'tavily_search_results_json', 'args': {'query': ' What is the meaning of the name Will?'}, 'id': 'call_8nz9', 'type': 'tool_call'}], usage_metadata={'input_tokens': 1282, 'output_tokens': 58, 'total_tokens': 1340}),\n",
       "   ToolMessage(content='[{\"url\": \"https://www.behindthename.com/name/will\", \"content\": \"Will is a short form of William and other names beginning with Will. It is a masculine name with various meanings, such as will, desire, determination, and resolution.\"}, {\"url\": \"https://www.thinkbabynames.com/meaning/1/Will\", \"content\": \"Will is a name of Old English, Old German and English origin, meaning \\\\\"desiring peace; determined protector\\\\\". It is a variant of Wilfred, William, Willie and Willis, and has many alternative forms and variations.\"}]', name='tavily_search_results_json', id='10df1133-1d41-4fb0-b960-9abdbfadc646', tool_call_id='call_8nz9', artifact={'query': ' What is the meaning of the name Will?', 'follow_up_questions': None, 'answer': None, 'images': [], 'results': [{'title': 'Meaning, origin and history of the name Will - Behind the Name', 'url': 'https://www.behindthename.com/name/will', 'content': 'Will is a short form of William and other names beginning with Will. It is a masculine name with various meanings, such as will, desire, determination, and resolution.', 'score': 0.99812514, 'raw_content': None}, {'title': 'Will - Name Meaning, What does Will mean? - Think Baby Names', 'url': 'https://www.thinkbabynames.com/meaning/1/Will', 'content': 'Will is a name of Old English, Old German and English origin, meaning \"desiring peace; determined protector\". It is a variant of Wilfred, William, Willie and Willis, and has many alternative forms and variations.', 'score': 0.9980122, 'raw_content': None}], 'response_time': 3.5}),\n",
       "   AIMessage(content='Will means \"desiring peace; determined protector\". \\n', additional_kwargs={}, response_metadata={'token_usage': {'completion_tokens': 14, 'prompt_tokens': 1493, 'total_tokens': 1507, 'completion_time': 0.025454545, 'prompt_time': 0.047844887, 'queue_time': 0.0038035529999999942, 'total_time': 0.073299432}, 'model_name': 'Gemma2-9b-It', 'system_fingerprint': 'fp_10c08bf97d', 'finish_reason': 'stop', 'logprobs': None}, id='run-d4122343-ad1a-44d2-8d23-8af8ae99c199-0', usage_metadata={'input_tokens': 1493, 'output_tokens': 14, 'total_tokens': 1507}),\n",
       "   HumanMessage(content='can you tell me what was my name?', additional_kwargs={}, response_metadata={}, id='57dba19d-1910-45dd-91be-098c77425adc'),\n",
       "   AIMessage(content='Your name is Will.', additional_kwargs={}, response_metadata={'token_usage': {'completion_tokens': 7, 'prompt_tokens': 1524, 'total_tokens': 1531, 'completion_time': 0.012727273, 'prompt_time': 0.049295551, 'queue_time': 0.004028498999999998, 'total_time': 0.062022824}, 'model_name': 'Gemma2-9b-It', 'system_fingerprint': 'fp_10c08bf97d', 'finish_reason': 'stop', 'logprobs': None}, id='run-377ea9e3-342f-45bf-9e77-bf28fc5b1b58-0', usage_metadata={'input_tokens': 1524, 'output_tokens': 7, 'total_tokens': 1531})],\n",
       "  'agent': 'agent'},\n",
       " 'channel_versions': {'__start__': '00000000000000000000000000000009.0.6662367508864789',\n",
       "  'messages': '00000000000000000000000000000010.0.05038496148096372',\n",
       "  'start:agent': '00000000000000000000000000000010.0.8244944064183509',\n",
       "  'agent': '00000000000000000000000000000010.0.29212114785992926',\n",
       "  'branch:agent:route_tools:tools': '00000000000000000000000000000006.0.9095378550443192',\n",
       "  'tools': '00000000000000000000000000000007.0.06581165757843366'},\n",
       " 'versions_seen': {'__input__': {},\n",
       "  '__start__': {'__start__': '00000000000000000000000000000008.0.4973497202225373'},\n",
       "  'agent': {'start:agent': '00000000000000000000000000000009.0.22232403827938663',\n",
       "   'tools': '00000000000000000000000000000006.0.6798752882094435'},\n",
       "  'tools': {'branch:agent:route_tools:tools': '00000000000000000000000000000005.0.9409243548323011'}},\n",
       " 'pending_sends': []}"
      ]
     },
     "execution_count": 141,
     "metadata": {},
     "output_type": "execute_result"
    }
   ],
   "source": [
    "memory.get(config)"
   ]
  },
  {
   "cell_type": "code",
   "execution_count": null,
   "metadata": {},
   "outputs": [],
   "source": []
  }
 ],
 "metadata": {
  "kernelspec": {
   "display_name": "Python 3",
   "language": "python",
   "name": "python3"
  },
  "language_info": {
   "codemirror_mode": {
    "name": "ipython",
    "version": 3
   },
   "file_extension": ".py",
   "mimetype": "text/x-python",
   "name": "python",
   "nbconvert_exporter": "python",
   "pygments_lexer": "ipython3",
   "version": "3.10.14"
  }
 },
 "nbformat": 4,
 "nbformat_minor": 2
}
